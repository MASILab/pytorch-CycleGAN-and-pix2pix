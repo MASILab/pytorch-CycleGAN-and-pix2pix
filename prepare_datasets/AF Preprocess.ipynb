{
 "cells": [
  {
   "cell_type": "code",
   "execution_count": 2,
   "id": "emotional-sweden",
   "metadata": {},
   "outputs": [],
   "source": [
    "import cv2\n",
    "import matplotlib.pyplot as plt\n",
    "import numpy as np\n",
    "\n",
    "workdir = '/mnt/1T/baos1/GCA/data/MXIF/cyclegan/'\n",
    "\n",
    "def AF_preprocess2(sample_id):    \n",
    "    img = cv2.imread('%s/%s_AF_GFP_100ms_ROUND_01.tif' % (workdir,sample_id),cv2.IMREAD_GRAYSCALE)\n",
    "    img3 = (img/(np.percentile(img, 99))*255).astype('uint8')\n",
    "    cv2.imwrite('%s/%s_AF_GFP_100ms_ROUND_01_99Percentile.tif' % (workdir,sample_id),img3)"
   ]
  },
  {
   "cell_type": "code",
   "execution_count": 6,
   "id": "bigger-intelligence",
   "metadata": {},
   "outputs": [
    {
     "name": "stdout",
     "output_type": "stream",
     "text": [
      "GCA003TIB\n"
     ]
    }
   ],
   "source": [
    "# sample_list = ['GCA002ACB','GCA002TIB','GCA003ACA', 'GCA004TIB', 'GCA011ACB']\n",
    "sample_list = ['GCA003TIB']\n",
    "\n",
    "\n",
    "for sample_id in sample_list:\n",
    "    print(sample_id)\n",
    "    AF_preprocess(sample_id)"
   ]
  },
  {
   "cell_type": "code",
   "execution_count": 4,
   "id": "rural-composite",
   "metadata": {},
   "outputs": [
    {
     "data": {
      "text/plain": [
       "'/data/baos1/GCA/dailyCode/pytorch-CycleGAN-and-pix2pix/prepare_datasets'"
      ]
     },
     "execution_count": 4,
     "metadata": {},
     "output_type": "execute_result"
    }
   ],
   "source": [
    "pwd"
   ]
  },
  {
   "cell_type": "code",
   "execution_count": 7,
   "id": "later-neutral",
   "metadata": {},
   "outputs": [],
   "source": [
    "def AF_preprocess(sample_id):    \n",
    "    img = cv2.imread('%s/%s_AF_GFP_100ms_ROUND_01.tif' % (workdir,sample_id),cv2.IMREAD_GRAYSCALE)\n",
    "    img3 = (img/(np.max(img))*255).astype('uint8')\n",
    "    cv2.imwrite('%s/%s_AF_GFP_100ms_ROUND_01_noPercentileCut.tif' % (workdir,sample_id),img3)"
   ]
  },
  {
   "cell_type": "code",
   "execution_count": 10,
   "id": "affected-watts",
   "metadata": {},
   "outputs": [
    {
     "name": "stdout",
     "output_type": "stream",
     "text": [
      "GCA011TIB\n",
      "GCA012ACB\n",
      "GCA012TIB\n"
     ]
    }
   ],
   "source": [
    "# sample_list = ['GCA002ACB','GCA002TIB','GCA003TIB', 'GCA004TIB', 'GCA011ACB','GCA003ACA']\n",
    "sample_list = ['GCA011TIB','GCA012ACB','GCA012TIB']\n",
    "# sample_list = ['GCA003ACA']\n",
    "\n",
    "for sample_id in sample_list:\n",
    "    print(sample_id)\n",
    "    AF_preprocess(sample_id)"
   ]
  },
  {
   "cell_type": "code",
   "execution_count": 11,
   "id": "institutional-twenty",
   "metadata": {},
   "outputs": [
    {
     "name": "stdout",
     "output_type": "stream",
     "text": [
      "GCA011TIB\n",
      "GCA012ACB\n",
      "GCA012TIB\n"
     ]
    }
   ],
   "source": [
    "def AF_preprocess2(sample_id):    \n",
    "    img = cv2.imread('%s/%s_AF_GFP_100ms_ROUND_01.tif' % (workdir,sample_id),cv2.IMREAD_GRAYSCALE)\n",
    "    img3 = (img/(np.percentile(img, 99))*255).astype('uint8')\n",
    "    cv2.imwrite('%s/%s_AF_GFP_100ms_ROUND_01_99Percentile.tif' % (workdir,sample_id),img3)\n",
    "\n",
    "for sample_id in sample_list:\n",
    "    print(sample_id)\n",
    "    AF_preprocess2(sample_id)"
   ]
  },
  {
   "cell_type": "code",
   "execution_count": null,
   "id": "strategic-translator",
   "metadata": {},
   "outputs": [],
   "source": []
  }
 ],
 "metadata": {
  "kernelspec": {
   "display_name": "Python 3",
   "language": "python",
   "name": "python3"
  },
  "language_info": {
   "codemirror_mode": {
    "name": "ipython",
    "version": 3
   },
   "file_extension": ".py",
   "mimetype": "text/x-python",
   "name": "python",
   "nbconvert_exporter": "python",
   "pygments_lexer": "ipython3",
   "version": "3.8.5"
  }
 },
 "nbformat": 4,
 "nbformat_minor": 5
}
