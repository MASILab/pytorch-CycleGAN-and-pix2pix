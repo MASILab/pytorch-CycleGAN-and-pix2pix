{
 "cells": [
  {
   "cell_type": "code",
   "execution_count": 19,
   "id": "victorian-newcastle",
   "metadata": {},
   "outputs": [],
   "source": [
    "import cv2\n",
    "\n",
    "workdir = '/mnt/1T/baos1/GCA/data/MXIF/cyclegan/'\n",
    "he_dim = 0.5036\n",
    "workdir_mxif_resize = '/mnt/1T/baos1/GCA/data/MXIF/cyclegan/mxif_in_ihe_space/'"
   ]
  },
  {
   "cell_type": "code",
   "execution_count": 20,
   "id": "apart-genome",
   "metadata": {},
   "outputs": [
    {
     "name": "stdout",
     "output_type": "stream",
     "text": [
      "(14479, 20567, 3)\n",
      "(9318, 13244, 3)\n",
      "/mnt/1T/baos1/GCA/data/MXIF/cyclegan/mxif_in_ihe_space//GCA002ACB_ALL_IN_IHE.tif\n"
     ]
    },
    {
     "data": {
      "text/plain": [
       "True"
      ]
     },
     "execution_count": 20,
     "metadata": {},
     "output_type": "execute_result"
    }
   ],
   "source": [
    "sample_id = 'GCA002ACB'\n",
    "img = cv2.imread('%s/%s_ALL.tif' % (workdir,sample_id))\n",
    "h,w,dim = img.shape\n",
    "print(img.shape)\n",
    "dim = (int(w * 0.32430937910244567/he_dim), int(h * 0.32411575385040403 / he_dim))\n",
    "  \n",
    "# resize image\n",
    "resized = cv2.resize(img, dim, interpolation = cv2.INTER_AREA)\n",
    "print(resized.shape)\n",
    "print('%s/%s_ALL_IN_IHE.tif' % (workdir_mxif_resize,sample_id))\n",
    "cv2.imwrite('%s/%s_ALL_IN_IHE.tif' % (workdir_mxif_resize,sample_id),resized)"
   ]
  },
  {
   "cell_type": "code",
   "execution_count": 21,
   "id": "rocky-woman",
   "metadata": {},
   "outputs": [],
   "source": [
    "def resize_mxif_to_ihe_space(x_size,y_size,sample_id):\n",
    "    print(sample_id)\n",
    "#     sample_id = 'GCA002ACB'\n",
    "    img = cv2.imread('%s/%s_ALL.tif' % (workdir,sample_id))\n",
    "    h,w,dim = img.shape\n",
    "    print(img.shape)\n",
    "    dim = (int(w * x_size/he_dim), int(h * y_size / he_dim))\n",
    "\n",
    "    # resize image\n",
    "    resized = cv2.resize(img, dim, interpolation = cv2.INTER_AREA)\n",
    "    print(resized.shape)\n",
    "    print('%s/%s_ALL_IN_IHE.tif' % (workdir_mxif_resize,sample_id))\n",
    "    cv2.imwrite('%s/%s_ALL_IN_IHE.tif' % (workdir_mxif_resize,sample_id),resized)"
   ]
  },
  {
   "cell_type": "code",
   "execution_count": 22,
   "id": "continuing-bidding",
   "metadata": {},
   "outputs": [
    {
     "name": "stdout",
     "output_type": "stream",
     "text": [
      "(14479, 20567, 3)\n",
      "(9318, 13244, 3)\n",
      "/mnt/1T/baos1/GCA/data/MXIF/cyclegan/mxif_in_ihe_space//GCA002ACB_ALL_IN_IHE.tif\n",
      "(17035, 13227, 3)\n",
      "(10963, 8518, 3)\n",
      "/mnt/1T/baos1/GCA/data/MXIF/cyclegan/mxif_in_ihe_space//GCA002TIB_ALL_IN_IHE.tif\n",
      "(10561, 9904, 3)\n",
      "(6797, 6378, 3)\n",
      "/mnt/1T/baos1/GCA/data/MXIF/cyclegan/mxif_in_ihe_space//GCA003ACA_ALL_IN_IHE.tif\n",
      "(20833, 18724, 3)\n",
      "(13408, 12058, 3)\n",
      "/mnt/1T/baos1/GCA/data/MXIF/cyclegan/mxif_in_ihe_space//GCA003TIB_ALL_IN_IHE.tif\n",
      "(13433, 19472, 3)\n",
      "(8645, 12539, 3)\n",
      "/mnt/1T/baos1/GCA/data/MXIF/cyclegan/mxif_in_ihe_space//GCA004TIB_ALL_IN_IHE.tif\n",
      "(16848, 23950, 3)\n",
      "(10843, 15423, 3)\n",
      "/mnt/1T/baos1/GCA/data/MXIF/cyclegan/mxif_in_ihe_space//GCA011ACB_ALL_IN_IHE.tif\n",
      "(13687, 19288, 3)\n",
      "(8809, 12421, 3)\n",
      "/mnt/1T/baos1/GCA/data/MXIF/cyclegan/mxif_in_ihe_space//GCA011TIB_ALL_IN_IHE.tif\n",
      "(12080, 22772, 3)\n",
      "(7774, 14664, 3)\n",
      "/mnt/1T/baos1/GCA/data/MXIF/cyclegan/mxif_in_ihe_space//GCA012ACB_ALL_IN_IHE.tif\n",
      "(17433, 25519, 3)\n",
      "(11219, 16433, 3)\n",
      "/mnt/1T/baos1/GCA/data/MXIF/cyclegan/mxif_in_ihe_space//GCA012TIB_ALL_IN_IHE.tif\n"
     ]
    }
   ],
   "source": [
    "# resize MxIF\n",
    "resize_mxif_to_ihe_space(0.32430937910244567 ,0.32411575385040403,'GCA002ACB')\n",
    "resize_mxif_to_ihe_space(0.32431821274665457 ,0.32412503668916937,'GCA002TIB')\n",
    "resize_mxif_to_ihe_space(0.32432108239095314 ,0.32412536691601174,'GCA003ACA')\n",
    "resize_mxif_to_ihe_space(0.3243145161290323 ,0.32412004992079874,'GCA003TIB')\n",
    "resize_mxif_to_ihe_space(0.3243017666392769 ,0.32411196307600687,'GCA004TIB')\n",
    "resize_mxif_to_ihe_space(0.32430597077244255 ,0.3241287986704653,'GCA011ACB')\n",
    "resize_mxif_to_ihe_space(0.32430687474077147 ,0.3241229633959231,'GCA011TIB')\n",
    "resize_mxif_to_ihe_space(0.32430941507114 ,0.3241153973509934,'GCA012ACB')\n",
    "resize_mxif_to_ihe_space(0.32431067048081824 ,0.32411197154821314,'GCA012TIB')"
   ]
  },
  {
   "cell_type": "markdown",
   "id": "automotive-testimony",
   "metadata": {},
   "source": [
    "MxIF physical size\n",
    "\n",
    "0.32430937910244567 0.32411575385040403\n",
    "\n",
    "0.32431821274665457 0.32412503668916937\n",
    "\n",
    "0.32432108239095314 0.32412536691601174 \n",
    "\n",
    "0.3243145161290323 0.32412004992079874\n",
    "\n",
    "0.3243017666392769 0.32411196307600687\n",
    "\n",
    "0.32430597077244255 0.3241287986704653\n",
    "\n",
    "0.32430687474077147 0.3241229633959231\n",
    "\n",
    "0.32430941507114 0.3241153973509934\n",
    "\n",
    "0.32431067048081824 0.32411197154821314"
   ]
  },
  {
   "cell_type": "code",
   "execution_count": 27,
   "id": "freelance-flash",
   "metadata": {},
   "outputs": [
    {
     "data": {
      "text/html": [
       "<style>.container { width:100% !important; }</style>"
      ],
      "text/plain": [
       "<IPython.core.display.HTML object>"
      ]
     },
     "metadata": {},
     "output_type": "display_data"
    }
   ],
   "source": [
    "# get H&E and resize\n",
    "#!/usr/bin/env python\n",
    "# coding: utf-8\n",
    "\n",
    "# In[1]:\n",
    "\n",
    "\n",
    "import openslide\n",
    "\n",
    "import sys\n",
    "\n",
    "# sys.path.insert(0, \"/home/remedilw/code/bf_translate_openslide/src/mypkg\")\n",
    "\n",
    "# older verison of library for debugging\n",
    "# sys.path.insert(0, \"/home/remedilw/code/Bioformats_Rainy_Pipeline/src/mypkg\")\n",
    "\n",
    "from PIL import ImageChops\n",
    "from copy import deepcopy\n",
    "\n",
    "import matplotlib\n",
    "import javabridge\n",
    "import bioformats\n",
    "import openslide\n",
    "import matplotlib.pyplot as plt\n",
    "import pathlib as pl\n",
    "import numpy as np\n",
    "from PIL import Image\n",
    "from PIL import ImageChops\n",
    "import xml.dom.minidom\n",
    "import xml.etree.ElementTree as ET\n",
    "import random\n",
    "from tqdm.notebook import tqdm\n",
    "\n",
    "#get_ipython().run_line_magic('matplotlib', 'inline')\n",
    "\n",
    "\n",
    "# In[2]:\n",
    "\n",
    "\n",
    "# Start javabridge VM\n",
    "def setup_javabridge():\n",
    "    myloglevel=\"ERROR\"  # user string argument for logLevel.\n",
    "\n",
    "    javabridge.start_vm(class_path=bioformats.JARS)\n",
    "\n",
    "    rootLoggerName = javabridge.get_static_field(\"org/slf4j/Logger\",\"ROOT_LOGGER_NAME\", \"Ljava/lang/String;\")\n",
    "    rootLogger = javabridge.static_call(\"org/slf4j/LoggerFactory\",\"getLogger\", \"(Ljava/lang/String;)Lorg/slf4j/Logger;\", rootLoggerName)\n",
    "    logLevel = javabridge.get_static_field(\"ch/qos/logback/classic/Level\",myloglevel, \"Lch/qos/logback/classic/Level;\")\n",
    "    javabridge.call(rootLogger, \"setLevel\", \"(Lch/qos/logback/classic/Level;)V\", logLevel)\n",
    "\n",
    "\n",
    "\n",
    "\n",
    "    \n",
    "from IPython.core.display import display, HTML\n",
    "display(HTML(\"<style>.container { width:100% !important; }</style>\"))\n",
    "\n",
    "setup_javabridge()\n",
    "\n",
    "def shutdown_vm():\n",
    "    javabridge.kill_vm()\n"
   ]
  },
  {
   "cell_type": "code",
   "execution_count": 28,
   "id": "stuffed-passport",
   "metadata": {},
   "outputs": [
    {
     "name": "stdout",
     "output_type": "stream",
     "text": [
      "/mnt/1T/baos1/GCA/data/MXIF/cyclegan/GCA002ACB_IHE.svs\n",
      "/mnt/1T/baos1/GCA/data/MXIF/cyclegan/cropped_ihe_one_third/GCA002ACB_IHE_cropped.tiff\n",
      "/mnt/1T/baos1/GCA/data/MXIF/cyclegan/GCA002TIB_IHE.svs\n",
      "/mnt/1T/baos1/GCA/data/MXIF/cyclegan/cropped_ihe_one_third/GCA002TIB_IHE_cropped.tiff\n",
      "/mnt/1T/baos1/GCA/data/MXIF/cyclegan/GCA003ACB_IHE.svs\n",
      "/mnt/1T/baos1/GCA/data/MXIF/cyclegan/cropped_ihe_one_third/GCA003ACB_IHE_cropped.tiff\n",
      "/mnt/1T/baos1/GCA/data/MXIF/cyclegan/GCA003TIB_IHE.svs\n",
      "/mnt/1T/baos1/GCA/data/MXIF/cyclegan/cropped_ihe_one_third/GCA003TIB_IHE_cropped.tiff\n",
      "/mnt/1T/baos1/GCA/data/MXIF/cyclegan/GCA004TIB_IHE.svs\n",
      "/mnt/1T/baos1/GCA/data/MXIF/cyclegan/cropped_ihe_one_third/GCA004TIB_IHE_cropped.tiff\n",
      "/mnt/1T/baos1/GCA/data/MXIF/cyclegan/GCA011ACB_IHE.svs\n",
      "/mnt/1T/baos1/GCA/data/MXIF/cyclegan/cropped_ihe_one_third/GCA011ACB_IHE_cropped.tiff\n",
      "/mnt/1T/baos1/GCA/data/MXIF/cyclegan/GCA011TIB_IHE.svs\n",
      "/mnt/1T/baos1/GCA/data/MXIF/cyclegan/cropped_ihe_one_third/GCA011TIB_IHE_cropped.tiff\n",
      "/mnt/1T/baos1/GCA/data/MXIF/cyclegan/GCA012ACB_IHE.svs\n",
      "/mnt/1T/baos1/GCA/data/MXIF/cyclegan/cropped_ihe_one_third/GCA012ACB_IHE_cropped.tiff\n",
      "/mnt/1T/baos1/GCA/data/MXIF/cyclegan/GCA012TIB_IHE.svs\n",
      "/mnt/1T/baos1/GCA/data/MXIF/cyclegan/cropped_ihe_one_third/GCA012TIB_IHE_cropped.tiff\n"
     ]
    }
   ],
   "source": [
    "import glob\n",
    "f_list = glob.glob('%s/*svs' % workdir)\n",
    "\n",
    "for i in f_list:\n",
    "    print(i)\n",
    "    fileName = i.split('/mnt/1T/baos1/GCA/data/MXIF/cyclegan/')[1].split('.svs')[0]\n",
    "#     new_name = convert_name(sampleId)\n",
    "# #     print(new_name)\n",
    "#     if new_name == 'GCA003TIB':\n",
    "#         print('hehe')\n",
    "# #     if new_name in keep_list:\n",
    "    with bioformats.ImageReader(i) as reader:\n",
    "        roi_1 = reader.read(c = None, z = 0,t = 0,XYWH = None, series = 1-1,rescale = False )\n",
    "#             print(roi_1.shape)\n",
    "        h,w,dim = roi_1.shape\n",
    "        w = w/3\n",
    "#             print(w)\n",
    "        roi_1_crop = roi_1[0:h,0:int(w),:]\n",
    "        print('/mnt/1T/baos1/GCA/data/MXIF/cyclegan/cropped_ihe_one_third/%s_cropped.tiff' % fileName)\n",
    "        cv2.imwrite('/mnt/1T/baos1/GCA/data/MXIF/cyclegan/cropped_ihe_one_third/%s_cropped.tiff' % fileName ,roi_1_crop)"
   ]
  },
  {
   "cell_type": "markdown",
   "id": "cooked-hands",
   "metadata": {},
   "source": [
    "### HE rotate and selective roi information\n",
    "rotate,x,y,w,h\n",
    "GCA002ACB: rotate right 180, 11392,2064,7520,5312\n",
    "\n",
    "GCA002TIB: rotate right 180, 11200,5920,6432,4848\n",
    "\n",
    "GCA003ACA: rotate right 270, 6276, 14248, 788, 1092\n",
    "\n",
    "GCA003TIB: rotate right 270, 528, 368, 9696, 11920\n",
    "\n",
    "GCA004TIB: rotate right 180, 5968, 1552, 10944, 7664\n",
    "\n",
    "GCA011ACB: rotate right 270, 3008, 10460, 15296, 10240\n",
    "\n",
    "GCA011TIB: rotate right 270, 8568, 13584, 5016, 6528\n",
    "\n",
    "GCA012ACB\n",
    "\n",
    "GCA012TIB"
   ]
  },
  {
   "cell_type": "markdown",
   "id": "emerging-banana",
   "metadata": {},
   "source": [
    "### MxIF selective roi information\n",
    "x,y,w,h\n",
    "GCA002ACB: 5028,3480,7956,5292\n",
    "\n",
    "GCA002TIB: 256,6352.6160,4368\n",
    "\n",
    "GCA003ACA: 4250,3141,1016,1152\n",
    "\n",
    "GCA003TIB: 96,640, 8320, 12144\n",
    "\n",
    "GCA004TIB: 0,0, 10956, 8645\n",
    "\n",
    "GCA011ACB: no need\n",
    "\n",
    "GCA011TIB: 7584, 1812, 4224, 6072\n",
    "\n",
    "GCA012ACB\n",
    "\n",
    "GCA012TIB"
   ]
  },
  {
   "cell_type": "code",
   "execution_count": null,
   "id": "compact-manner",
   "metadata": {},
   "outputs": [],
   "source": []
  }
 ],
 "metadata": {
  "kernelspec": {
   "display_name": "Python 3",
   "language": "python",
   "name": "python3"
  },
  "language_info": {
   "codemirror_mode": {
    "name": "ipython",
    "version": 3
   },
   "file_extension": ".py",
   "mimetype": "text/x-python",
   "name": "python",
   "nbconvert_exporter": "python",
   "pygments_lexer": "ipython3",
   "version": "3.8.5"
  }
 },
 "nbformat": 4,
 "nbformat_minor": 5
}
